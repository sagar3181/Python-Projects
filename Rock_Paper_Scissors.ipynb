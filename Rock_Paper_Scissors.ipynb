{
 "cells": [
  {
   "cell_type": "code",
   "execution_count": null,
   "id": "99ad6bd5",
   "metadata": {
    "scrolled": true
   },
   "outputs": [],
   "source": [
    "#simple\n",
    "\n",
    "user_input = input(\"Enter your choice(rock,paper,scissors):\")\n",
    "print(f\"User chosses {user_input}\")\n",
    "\n",
    "import random\n",
    "computer_action = (\"rock\",\"paper\",\"scissors\")\n",
    "computer_final = random.choice(computer_action)\n",
    "print(f\"Computer chosses {computer_final}\")\n",
    "\n",
    "if user_input == computer_final:\n",
    "    print(f\"{user_input} equals to {computer_final}; Therfore it's a tie!\")\n",
    "elif user_input == 'rock'and computer_final == 'scissors':\n",
    "    print('User wins!')\n",
    "elif user_input == 'paper'and computer_final == 'rock':\n",
    "    print('User wins!')\n",
    "elif user_input == 'scissors'and computer_final == 'paper':\n",
    "    print('User wins!')\n",
    "elif user_input == 'rock' and computer_final == 'paper':\n",
    "    print('User looses!')\n",
    "elif user_input == 'paper' and computer_final == 'scissors':    \n",
    "    print('User looses!')\n",
    "elif user_input == 'scissors' and computer_final == 'rock':\n",
    "    print('user losses!')\n",
    "    "
   ]
  },
  {
   "cell_type": "code",
   "execution_count": null,
   "id": "c950f769",
   "metadata": {},
   "outputs": [],
   "source": []
  },
  {
   "cell_type": "code",
   "execution_count": null,
   "id": "f61b7a31",
   "metadata": {},
   "outputs": [],
   "source": []
  }
 ],
 "metadata": {
  "kernelspec": {
   "display_name": "Python 3 (ipykernel)",
   "language": "python",
   "name": "python3"
  },
  "language_info": {
   "codemirror_mode": {
    "name": "ipython",
    "version": 3
   },
   "file_extension": ".py",
   "mimetype": "text/x-python",
   "name": "python",
   "nbconvert_exporter": "python",
   "pygments_lexer": "ipython3",
   "version": "3.9.7"
  }
 },
 "nbformat": 4,
 "nbformat_minor": 5
}
