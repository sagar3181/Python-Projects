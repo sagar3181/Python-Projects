{
 "cells": [
  {
   "cell_type": "markdown",
   "id": "b566f487",
   "metadata": {},
   "source": [
    "Answers for the queations: \n",
    "1. Sagar\n",
    "2. Sagar Badgujar\n",
    "3. 31"
   ]
  },
  {
   "cell_type": "code",
   "execution_count": 1,
   "id": "3f4a5b20",
   "metadata": {},
   "outputs": [
    {
     "name": "stdout",
     "output_type": "stream",
     "text": [
      "Welcome to the game!\n",
      "Type 'Yes' if you want to start playing - yes\n",
      "Lets play\n",
      "Who made this game?sagar\n",
      "Correct!\n",
      "What is the developers full name?sagar badgujar\n",
      "Correct!\n",
      "birth-date of the developer?31\n",
      "Correct!\n"
     ]
    }
   ],
   "source": [
    "print(\"Welcome to the game!\")\n",
    "\n",
    "start_playing = input(\"Type 'Yes' if you want to start playing - \")\n",
    "if start_playing.lower() != 'yes': \n",
    "    start_playing.exit()\n",
    "\n",
    "print('Lets play')\n",
    "score = 0\n",
    "\n",
    "Question_one = input('Who made this game?')\n",
    "if Question_one.lower() == 'sagar':\n",
    "    print('Correct!')\n",
    "    score += 1\n",
    "\n",
    "else:\n",
    "    print('Incorrect!')\n",
    "Question_two = input('What is the developers full name?')\n",
    "if Question_two.lower() == 'sagar badgujar':\n",
    "            print('Correct!')\n",
    "            score += 1\n",
    "else:\n",
    "    print('Incorrect!')\n",
    "Question_three = input('birth-date of the developer?')\n",
    "if Question_three == '31':\n",
    "    print('Correct!')\n",
    "    score += 1\n",
    "else:\n",
    "    print('Incorrect!')\n",
    "    \n",
    "    print(\"you got \" +  str(score) + \" questions correct\")\n",
    "    "
   ]
  }
 ],
 "metadata": {
  "kernelspec": {
   "display_name": "Python 3 (ipykernel)",
   "language": "python",
   "name": "python3"
  },
  "language_info": {
   "codemirror_mode": {
    "name": "ipython",
    "version": 3
   },
   "file_extension": ".py",
   "mimetype": "text/x-python",
   "name": "python",
   "nbconvert_exporter": "python",
   "pygments_lexer": "ipython3",
   "version": "3.9.7"
  }
 },
 "nbformat": 4,
 "nbformat_minor": 5
}
