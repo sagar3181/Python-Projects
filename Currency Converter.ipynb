{
 "cells": [
  {
   "cell_type": "code",
   "execution_count": 1,
   "id": "7163f953",
   "metadata": {},
   "outputs": [],
   "source": [
    "from forex_python.converter import CurrencyRates"
   ]
  },
  {
   "cell_type": "code",
   "execution_count": 2,
   "id": "fb15a6de",
   "metadata": {},
   "outputs": [],
   "source": [
    "c = CurrencyRates()"
   ]
  },
  {
   "cell_type": "code",
   "execution_count": 3,
   "id": "094ddc71",
   "metadata": {},
   "outputs": [],
   "source": [
    "#c.convert('USD','INR',1)"
   ]
  },
  {
   "cell_type": "code",
   "execution_count": 4,
   "id": "b898de41",
   "metadata": {},
   "outputs": [
    {
     "name": "stdout",
     "output_type": "stream",
     "text": [
      "Enter the currency you need yo convert from: Currency1 = usd\n",
      "Enter the currency you need to get: Currency2 =inr\n",
      "Enter the amount: 1\n"
     ]
    },
    {
     "data": {
      "text/plain": [
       "77.59794776119402"
      ]
     },
     "execution_count": 4,
     "metadata": {},
     "output_type": "execute_result"
    }
   ],
   "source": [
    "user_from = input(\"Enter the currency you need yo convert from: Currency1 = \").upper()\n",
    "user_to = input(\"Enter the currency you need to get: Currency2 =\").upper()\n",
    "amount = int(input(\"Enter the amount: \"))\n",
    "c.convert(user_from,user_to,amount)"
   ]
  }
 ],
 "metadata": {
  "kernelspec": {
   "display_name": "Python 3 (ipykernel)",
   "language": "python",
   "name": "python3"
  },
  "language_info": {
   "codemirror_mode": {
    "name": "ipython",
    "version": 3
   },
   "file_extension": ".py",
   "mimetype": "text/x-python",
   "name": "python",
   "nbconvert_exporter": "python",
   "pygments_lexer": "ipython3",
   "version": "3.9.7"
  }
 },
 "nbformat": 4,
 "nbformat_minor": 5
}
