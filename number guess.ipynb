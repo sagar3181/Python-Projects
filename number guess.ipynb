{
 "cells": [
  {
   "cell_type": "code",
   "execution_count": null,
   "id": "fafe1a1a",
   "metadata": {},
   "outputs": [],
   "source": [
    "print(\"welcome to number guess game\")\n",
    "\n",
    "import random\n",
    "\n",
    "topd = input(\"Enter the highest digit: \")\n",
    "if topd.isdigit():\n",
    "    topd = int(topd)\n",
    "   # print(f'your action was successful, you have choosed {topd}.')\n",
    "    \n",
    "    if topd <= 0:\n",
    "        print(\"please enter a greater digit than 0\")\n",
    "        quit() \n",
    "else: \n",
    "    print(\"please type a number next time\")\n",
    "    quit()\n",
    "    \n",
    "random_number = random.randint(0,topd)\n",
    "guess = 0 \n",
    "while True:\n",
    "    \n",
    "    guess += 1\n",
    "    user_input = input(\"please guess a digit\")\n",
    "    if user_input.isdigit():\n",
    "        user_input = int(user_input)\n",
    "    #print(f' you have choosed {user_input}.')\n",
    "    else:\n",
    "        print('Please type a number next time.')\n",
    "        continue\n",
    "\n",
    "    if user_input == random_number:\n",
    "        print(\"Well done! you got it\")\n",
    "        break   \n",
    " \n",
    "    elif user_input > random_number:\n",
    "        print(\"You were above the number!\")\n",
    "    else:\n",
    "        print(\"You were below the number!\")\n",
    "         \n",
    "        \n",
    "print(f\"You got it in {guess} guesses.\")\n",
    "\n",
    "    "
   ]
  },
  {
   "cell_type": "code",
   "execution_count": null,
   "id": "43d6a913",
   "metadata": {},
   "outputs": [],
   "source": []
  }
 ],
 "metadata": {
  "kernelspec": {
   "display_name": "Python 3 (ipykernel)",
   "language": "python",
   "name": "python3"
  },
  "language_info": {
   "codemirror_mode": {
    "name": "ipython",
    "version": 3
   },
   "file_extension": ".py",
   "mimetype": "text/x-python",
   "name": "python",
   "nbconvert_exporter": "python",
   "pygments_lexer": "ipython3",
   "version": "3.9.7"
  }
 },
 "nbformat": 4,
 "nbformat_minor": 5
}
