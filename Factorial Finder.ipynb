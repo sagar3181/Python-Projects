{
 "cells": [
  {
   "cell_type": "code",
   "execution_count": null,
   "id": "5257bae9",
   "metadata": {},
   "outputs": [],
   "source": [
    "user_input = int(input(\"enter a digit \"))\n",
    "factorial = 1\n",
    "if user_input == 0:\n",
    "    print(\"please enter a digit bigger than zero\")\n",
    "else: \n",
    "    for i in range(1,user_input+1):\n",
    "        factorial = factorial * i\n",
    "        print(factorial)\n"
   ]
  },
  {
   "cell_type": "code",
   "execution_count": null,
   "id": "1d9f6638",
   "metadata": {},
   "outputs": [],
   "source": []
  }
 ],
 "metadata": {
  "kernelspec": {
   "display_name": "Python 3 (ipykernel)",
   "language": "python",
   "name": "python3"
  },
  "language_info": {
   "codemirror_mode": {
    "name": "ipython",
    "version": 3
   },
   "file_extension": ".py",
   "mimetype": "text/x-python",
   "name": "python",
   "nbconvert_exporter": "python",
   "pygments_lexer": "ipython3",
   "version": "3.9.7"
  }
 },
 "nbformat": 4,
 "nbformat_minor": 5
}
