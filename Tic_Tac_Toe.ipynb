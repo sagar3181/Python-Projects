{
 "cells": [
  {
   "cell_type": "code",
   "execution_count": 1,
   "id": "d4fc81fd",
   "metadata": {},
   "outputs": [],
   "source": [
    "#Player-1 vs Player-2"
   ]
  },
  {
   "cell_type": "code",
   "execution_count": 2,
   "id": "d2e247ee",
   "metadata": {},
   "outputs": [],
   "source": [
    "#steps\n",
    "# 1 - make board\n",
    "# 2 - player input \n",
    "# 3 - place maker (position)\n",
    "# 4 - win check (game guidelines)\n",
    "# 5 - choose first \n",
    "# 6 - space check\n",
    "# 7 - full board check\n",
    "# 8 - player choice\n",
    "# 9 - replay\n",
    "#10 - Final game"
   ]
  },
  {
   "cell_type": "code",
   "execution_count": 3,
   "id": "b0e35aa2",
   "metadata": {},
   "outputs": [],
   "source": [
    "def display_board(board):\n",
    "\n",
    "    print('____________')\n",
    "    print('|   |   |   |')\n",
    "    print('|' + board[7] + '  | ' + board[8] + ' | ' + board[9] + ' |')\n",
    "    print('|___|___|___|')\n",
    "    print('|   |   |   |')\n",
    "    print('|' + board[4] + '  | ' + board[5] + ' | ' + board[6] + ' |')\n",
    "    print('|___|___|___|')\n",
    "    print('|   |   |   |')\n",
    "    print('|' + board[1] + '  | ' + board[2] + ' | ' + board[3] + ' |')\n",
    "    print('|___|___|___|')\n",
    "  \n",
    "    "
   ]
  },
  {
   "cell_type": "code",
   "execution_count": 4,
   "id": "b388bbb7",
   "metadata": {},
   "outputs": [],
   "source": [
    "#testing above cell\n",
    "#test_board = ['1','2','3','4','5','6','7','8','9','0']\n",
    "#display_board(test_board)"
   ]
  },
  {
   "cell_type": "code",
   "execution_count": 5,
   "id": "ff540c05",
   "metadata": {},
   "outputs": [],
   "source": [
    "def player_input():\n",
    "    marker = ''\n",
    "    \n",
    "    while not (marker == 'X' or marker == 'O'):\n",
    "        marker = input('Player 1: Do you want to be X or O? ').upper()\n",
    "\n",
    "    if marker == 'X':\n",
    "        return ('X', 'O') #'0' was choosed cause it will  be used by player 2\n",
    "    else:\n",
    "        return ('O', 'X') #'X' was choosed cause it will  be used by player 2"
   ]
  },
  {
   "cell_type": "code",
   "execution_count": 6,
   "id": "eb31c581",
   "metadata": {},
   "outputs": [],
   "source": [
    "#Testing above cell\n",
    "#player_input()"
   ]
  },
  {
   "cell_type": "code",
   "execution_count": 7,
   "id": "6b6f2556",
   "metadata": {},
   "outputs": [],
   "source": [
    "#for marking the position of input X or O\n",
    "def place_marker(board, marker, position):\n",
    "    board[position] = marker "
   ]
  },
  {
   "cell_type": "code",
   "execution_count": 8,
   "id": "226e0884",
   "metadata": {},
   "outputs": [],
   "source": [
    "#giving guideline of winning the game\n",
    "def win_check(board,mark):\n",
    "    \n",
    "    if((board[7] == mark and board[8] == mark and board[9] == mark) or # across the top\n",
    "    (board[4] == mark and board[5] == mark and board[6] == mark) or # across the middle\n",
    "    (board[1] == mark and board[2] == mark and board[3] == mark) or # across the bottom\n",
    "    (board[7] == mark and board[4] == mark and board[1] == mark) or # down the middle\n",
    "    (board[8] == mark and board[5] == mark and board[2] == mark) or # down the middle\n",
    "    (board[9] == mark and board[6] == mark and board[3] == mark) or # down the right side\n",
    "    (board[7] == mark and board[5] == mark and board[3] == mark) or # diagonal\n",
    "    (board[9] == mark and board[5] == mark and board[1] == mark)):    \n",
    "        return 'Player 1'\n",
    "\n",
    "    elif((board[7] == 'O' and board[8] == 'O' and board[9] == 'O') or # across the top\n",
    "    (board[4] == 'O' and board[5] == 'O' and board[6] == 'O') or # across the middle\n",
    "    (board[1] == 'O' and board[2] == 'O' and board[3] == 'O') or # across the bottom\n",
    "    (board[7] == 'O' and board[4] == 'O' and board[1] == 'O') or # down the middle\n",
    "    (board[8] == 'O' and board[5] == 'O' and board[2] == 'O') or # down the middle\n",
    "    (board[9] == 'O' and board[6] == 'O' and board[3] == 'O') or # down the right side\n",
    "    (board[7] == 'O' and board[5] == 'O' and board[3] == 'O') or # diagonal\n",
    "    (board[9] == 'O' and board[5] == 'O' and board[1] == 'O')) :\n",
    "        return 'Player 2'\n",
    "\n",
    "    elif((board[1] == 'X' or board[1] == 'O') and\n",
    "         (board[2] == 'X' or board[2] == 'O') and\n",
    "         (board[3] == 'X' or board[3] == 'O') and\n",
    "         (board[4] == 'X' or board[4] == 'O') and\n",
    "         (board[5] == 'X' or board[5] == 'O') and\n",
    "         (board[6] == 'X' or board[6] == 'O') and\n",
    "         (board[7] == 'X' or board[7] == 'O') and\n",
    "         (board[8] == 'X' or board[8] == 'O') and\n",
    "         (board[9] == 'X' or board[9] == 'O')):\n",
    "        return 'Draw'\n",
    "\n",
    "    else:\n",
    "        return 'None'"
   ]
  },
  {
   "cell_type": "code",
   "execution_count": 9,
   "id": "aa2e6762",
   "metadata": {},
   "outputs": [],
   "source": [
    "#to choose player\n",
    "import random\n",
    "def choose_first():\n",
    "    if random.randint(0, 1) == 0:\n",
    "        return 'Player 2'\n",
    "    else:\n",
    "        return 'Player 1'"
   ]
  },
  {
   "cell_type": "code",
   "execution_count": 10,
   "id": "938147bd",
   "metadata": {},
   "outputs": [],
   "source": [
    "def space_check(board, position):\n",
    "    \n",
    "    return board[position] == ' '"
   ]
  },
  {
   "cell_type": "code",
   "execution_count": 11,
   "id": "af162f89",
   "metadata": {},
   "outputs": [],
   "source": [
    "def full_board_check(board):\n",
    "    for i in range(1,10):\n",
    "        if space_check(board, i):\n",
    "            return False\n",
    "    return True"
   ]
  },
  {
   "cell_type": "code",
   "execution_count": 12,
   "id": "1e2c08b7",
   "metadata": {},
   "outputs": [],
   "source": [
    "def player_choice(board):\n",
    "    position = 0\n",
    "    \n",
    "    while position not in [1,2,3,4,5,6,7,8,9] or not space_check(board, position):\n",
    "        position = int(input('Choose your next position: (1-9) '))\n",
    "        \n",
    "    return position"
   ]
  },
  {
   "cell_type": "code",
   "execution_count": 13,
   "id": "23d2472d",
   "metadata": {},
   "outputs": [],
   "source": [
    "def replay():\n",
    "    \n",
    "    return input('Do you want to play again? Enter Yes or No: ').lower().startswith('y')"
   ]
  },
  {
   "cell_type": "code",
   "execution_count": 14,
   "id": "e1ca0cf1",
   "metadata": {},
   "outputs": [
    {
     "name": "stdout",
     "output_type": "stream",
     "text": [
      "Welcome to Tic Tac Toe!\n",
      "Player 1: Do you want to be X or O? X\n",
      "Player 2 will go first.\n",
      "Are you ready to play? Enter Yes or No.y\n",
      "____________\n",
      "|   |   |   |\n",
      "|   |   |   |\n",
      "|___|___|___|\n",
      "|   |   |   |\n",
      "|   |   |   |\n",
      "|___|___|___|\n",
      "|   |   |   |\n",
      "|   |   |   |\n",
      "|___|___|___|\n",
      "Choose your next position: (1-9) 5\n",
      "____________\n",
      "|   |   |   |\n",
      "|   |   |   |\n",
      "|___|___|___|\n",
      "|   |   |   |\n",
      "|   | O |   |\n",
      "|___|___|___|\n",
      "|   |   |   |\n",
      "|   |   |   |\n",
      "|___|___|___|\n",
      "Player 2 has won!\n",
      "Do you want to play again? Enter Yes or No: nm\n"
     ]
    }
   ],
   "source": [
    "print('Welcome to Tic Tac Toe!')\n",
    "\n",
    "while True:\n",
    "    # Reset the board\n",
    "    theBoard = [' '] * 10\n",
    "    player1_marker, player2_marker = player_input()\n",
    "    turn = choose_first()\n",
    "    print(turn + ' will go first.')\n",
    "    \n",
    "    play_game = input('Are you ready to play? Enter Yes or No.')\n",
    "    \n",
    "    if play_game.lower()[0] == 'y':\n",
    "        game_on = True\n",
    "    else:\n",
    "        game_on = False\n",
    "\n",
    "    while game_on:\n",
    "        if turn == 'Player 1':\n",
    "            # Player1's turn.\n",
    "            \n",
    "            display_board(theBoard)\n",
    "            position = player_choice(theBoard)\n",
    "            place_marker(theBoard, player1_marker, position)\n",
    "\n",
    "            if win_check(theBoard, player1_marker):\n",
    "                display_board(theBoard)\n",
    "                print('Congratulations! You have won the game!')\n",
    "                game_on = False\n",
    "            else:\n",
    "                if full_board_check(theBoard):\n",
    "                    display_board(theBoard)\n",
    "                    print('The game is a draw!')\n",
    "                    break\n",
    "                else:\n",
    "                    turn = 'Player 2'\n",
    "\n",
    "        else:\n",
    "            # Player2's turn.\n",
    "            \n",
    "            display_board(theBoard)\n",
    "            position = player_choice(theBoard)\n",
    "            place_marker(theBoard, player2_marker, position)\n",
    "\n",
    "\n",
    "            if win_check(theBoard, player2_marker):\n",
    "                display_board(theBoard)\n",
    "                print('Player 2 has won!')\n",
    "                game_on = False\n",
    "            else:\n",
    "                if full_board_check(theBoard):\n",
    "                    display_board(theBoard)\n",
    "                    print('The game is a draw!')\n",
    "                    break\n",
    "                else:\n",
    "                    turn = 'Player 1'\n",
    "\n",
    "    if not replay():\n",
    "        break"
   ]
  },
  {
   "cell_type": "code",
   "execution_count": null,
   "id": "88572662",
   "metadata": {},
   "outputs": [],
   "source": []
  },
  {
   "cell_type": "code",
   "execution_count": null,
   "id": "0f446f5c",
   "metadata": {},
   "outputs": [],
   "source": []
  }
 ],
 "metadata": {
  "kernelspec": {
   "display_name": "Python 3 (ipykernel)",
   "language": "python",
   "name": "python3"
  },
  "language_info": {
   "codemirror_mode": {
    "name": "ipython",
    "version": 3
   },
   "file_extension": ".py",
   "mimetype": "text/x-python",
   "name": "python",
   "nbconvert_exporter": "python",
   "pygments_lexer": "ipython3",
   "version": "3.9.7"
  }
 },
 "nbformat": 4,
 "nbformat_minor": 5
}
