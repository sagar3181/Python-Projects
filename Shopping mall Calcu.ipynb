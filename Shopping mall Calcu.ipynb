{
 "cells": [
  {
   "cell_type": "code",
   "execution_count": null,
   "id": "fc552ab6",
   "metadata": {},
   "outputs": [],
   "source": [
    "sum = 0\n",
    "while (True):\n",
    "    user_input = input(\"enter the item price or press q to quit \\n\")    \n",
    "    if (user_input != 'q'):\n",
    "        sum=sum+int(user_input)\n",
    "        print(f'Your total amount {sum}') \n",
    "    else:\n",
    "        print(f'Your bag total is {sum}: Thank you for shopping')\n",
    "        break             "
   ]
  }
 ],
 "metadata": {
  "kernelspec": {
   "display_name": "Python 3 (ipykernel)",
   "language": "python",
   "name": "python3"
  },
  "language_info": {
   "codemirror_mode": {
    "name": "ipython",
    "version": 3
   },
   "file_extension": ".py",
   "mimetype": "text/x-python",
   "name": "python",
   "nbconvert_exporter": "python",
   "pygments_lexer": "ipython3",
   "version": "3.9.7"
  }
 },
 "nbformat": 4,
 "nbformat_minor": 5
}
